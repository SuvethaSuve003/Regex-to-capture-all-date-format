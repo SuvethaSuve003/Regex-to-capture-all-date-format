{
 "cells": [
  {
   "cell_type": "markdown",
   "id": "6dccda8a",
   "metadata": {},
   "source": [
    "\n",
    "# read the contents from a file"
   ]
  },
  {
   "cell_type": "code",
   "execution_count": 73,
   "id": "3bb1fca4",
   "metadata": {
    "collapsed": true
   },
   "outputs": [
    {
     "data": {
      "text/plain": [
       "'ABHAY DIXIT                     \\n                                      Ph. No. :    +91-9923767905                         E-Mail :  abhaydixit237@gmail.com \\n         Electronics & Telecommunication Engineering \\n \\n \\n \\nInternship :  \\nCompany Name :    LARSEN & TOUBRO \\n \\nDesignation/Role Name :   Internship Trainee \\nâ€¢  Used to work on small projects in Embedded System using Keil \\n        ( 16th May 2016 - 7th June 2016 )  \\nsoftware. \\nâ€¢  Designed Circuits using PCB Express. \\nCompany Name :    JIO â€“Digital India \\n \\nDesignation/Role Name :   Internship Trainee \\nâ€¢  During this program ,  I Interacted with SMBs to understand how the \\n                     ( 13th June 2018- 11th July 2018 )  \\ndigital revolution has impacted their businesses. \\n \\nProjects Undertaken :  \\nName of the Project :    VOICE CONTROLLED CAR                    2019-2020 \\nCore technologies Used :  Arduino ,  Bluetooth \\nâ€¢  Voice controlled car is a Arduino based car whose motions can be \\n       controlled by the user by giving specific voice commands. \\nName of the Project :    Automatic Street Light Controller    2018 \\nCore technologies Used :    Electro-Mechanical \\nâ€¢  This project aims for saving electricity that is been wasted on street \\nlights even when they are not in use. It uses LDR sensors which turns \\non when a vehicle passes through. \\n \\nName of the Project :    SPARSH \\n \\nCore technologies Used :    PIC Microcontroller \\nâ€¢  This project helps paralyzed or physically disabled people to do basic \\nthings like turning on/off light or fan ,  controlling the speed of fan \\nwith the help of gestures. \\n           2016-2017 \\n \\nAcademic Qualifications :  \\nâ€¢  Bachelor of Engineering  ( B.E. )  \\n        ( From July 2017 )  \\nUniversity of Mumbai.  ( Till Sem 7 )  7.37 CGPI. \\nâ€¢  Diploma in Electronics & Telecommunication             2014-2017 \\nMaharashtra State Board. Passed with 87.35%. \\nâ€¢  Secondary School Certificate  ( S.S.C )  \\n        2013-2014 \\nMaharashtra State Board. Passed with 84.60%. \\nCo-Curricular Activities :  \\nâ€¢  Coursera \\ncertification \\nfor \\nPython for everybody. \\nâ€¢  NPTEL  certification  for  CMOS \\nVLSI. \\nâ€¢  Attended workshop on \\nEngineering Applications Using \\nMATLAB. \\nâ€¢  Attended CCNA Workshop. \\nâ€¢  Attended  Workshop  on  IOT  & \\nEmbedded System. \\nâ€¢  Participated in state level \\ntechnical paper presentation. \\nExtra-Curricular Activities :  \\nâ€¢  Participated in college Annual \\nFunction during Diploma. \\nâ€¢  Industrial Visit  ( 2019 ) . \\nTechnical Skills :   \\nLanguage :  \\nâ€¢  Python.  \\nâ€¢  Basics of C.  \\nTools :  \\nâ€¢  Proteus \\nâ€¢  VLSI \\n \\nPosition of Responsibility :   \\nâ€¢  ISTE Event Co-ordinator  \\nfor Academic Year 2016-17  \\nduring Diploma.             \\nHobbies & Interest :  \\nâ€¢  Cooking food. \\nâ€¢  Gymming. \\nâ€¢  Watching TV Series.'"
      ]
     },
     "execution_count": 73,
     "metadata": {},
     "output_type": "execute_result"
    }
   ],
   "source": [
    "with open(r'C:\\Users\\HP\\Resume Text Files\\abhay dixit_resume - Constructorsfeed_text.txt') as f:\n",
    "    contents = f.read()\n",
    "contents"
   ]
  },
  {
   "cell_type": "markdown",
   "id": "f80ad5d6",
   "metadata": {},
   "source": [
    "# Gpa calculation"
   ]
  },
  {
   "cell_type": "code",
   "execution_count": 85,
   "id": "3d0368da",
   "metadata": {},
   "outputs": [
    {
     "name": "stdout",
     "output_type": "stream",
     "text": [
      "GPA AND PERCENTAGE\n",
      "['8.53', '91.6', '9.3']\n",
      "DATE\n",
      "['JUNE 2016 ', ' JUNE 2020\\n', 'JUNE 2014 ', ' APRIL 2016\\n', 'JUNE 2013 ', ' MARCH 2014\\n', '31-08-1']\n"
     ]
    }
   ],
   "source": [
    "import re\n",
    "\n",
    "file = r'C:\\Users\\HP\\Resume Text Files\\1579683772740_LAKSHMI - inturi lakshmi pavan reddy_text.txt'\n",
    "\n",
    "gpa_perc=[]\n",
    "date = []\n",
    "\n",
    "with open(file) as f:\n",
    "    for line in f:\n",
    "        gpa_percentage = re.compile(r'\\d\\d?\\.\\d\\d?%?|\\d+%', re.VERBOSE)\n",
    "        dates = re.compile(r'\\d+/\\d+/\\d+|\\d+\\.\\d+\\.\\d+|\\d+-\\d+-\\d|(?:18[0-9]\\d{1}|2[0-9]\\d{2})|(?:\\d{4})?(?:\\s)?(?:\\d\\d?)?(?:\\s)?(?:Jan(?:uary)?|JAN(?:UARY)?|Feb(?:ruary)?|FEB(?:RUARY)?|March?|MARCH?|Apr(?:il)?|APR(?:IL)?|May|MAY|June|JUNE|July|JULY|Aug(?:ust)?|AUG(?:UST)?|Sep(?:tember)?|SEP(?:TEMBER)?|Oct(?:ober)?|OCT(?:OBER)?|Nov(?:ember)?|NOV(?:EMBER)?|Dec(?:ember)?|DECEMBER)(?:\\s)?(?:\\d\\d+?\\d{4})?(?:\\s)?(?:\\d+)?(?:\\s)?(?:\\d{4})?', re.VERBOSE)\n",
    "        datess = re.findall(r'(\\w+(?:\\s)?(?:\\d{4})(?:\\s)?(?:to|TO|To)(?:\\s)?\\w+(?:\\s)?(?:\\d{4})?)', line)\n",
    "        for groups in gpa_percentage.findall(line):\n",
    "            gpa_perc.append(groups)\n",
    "        for data in dates.findall(line):\n",
    "            date.append(data)\n",
    "            \n",
    "print(\"GPA AND PERCENTAGE\")\n",
    "print(gpa_perc)\n",
    "print(\"DATE\")\n",
    "print(date)"
   ]
  },
  {
   "cell_type": "code",
   "execution_count": 274,
   "id": "20482b1d",
   "metadata": {},
   "outputs": [
    {
     "name": "stdout",
     "output_type": "stream",
     "text": [
      "GPA AND PERCENTAGE\n",
      "['94.6', '90.6', '8.8']\n",
      "DATE\n",
      "['2014', '2016', '2020']\n"
     ]
    }
   ],
   "source": [
    "import re\n",
    "from openpyxl.workbook import Workbook \n",
    "\n",
    "file = r'C:\\Users\\HP\\Resume Text Files\\_sabareswari___2016-2020___SIST_ - Sabareswari Subbiah_text.txt'\n",
    "\n",
    "gpa_perc=[]\n",
    "date = []\n",
    "with open(file) as f:\n",
    "    for line in f:\n",
    "        gpa_percentage = re.compile(r'\\d\\d?\\.\\d\\d?%?|\\d+%', re.VERBOSE)\n",
    "        dates = re.compile(r'\\d+/\\d+/\\d+|\\d+\\.\\d+\\.\\d+|\\d+-\\d+-\\d|(?:18[0-9]\\d{1}|2[0-9]\\d{2})|(?:\\d{4})?(?:\\s)?(?:\\d\\d?)?(?:\\s)?(?:Jan(?:uary)?|JAN(?:UARY)?|Feb(?:ruary)?|FEB(?:RUARY)?|March?|MARCH?|Apr(?:il)?|APR(?:IL)?|May|MAY|June|JUNE|July|JULY|Aug(?:ust)?|AUG(?:UST)?|Sep(?:tember)?|SEP(?:TEMBER)?|Oct(?:ober)?|OCT(?:OBER)?|Nov(?:ember)?|NOV(?:EMBER)?|December?|DECEMBER?)(?:\\s)?(?:\\d\\d+?\\d{4})?(?:\\s)?(?:\\d+)?(?:\\s)?(?:\\d{4})?', re.VERBOSE)\n",
    "        for groups in gpa_percentage.findall(line):\n",
    "            gpa_perc.append(groups)\n",
    "        for data in dates.findall(line):\n",
    "            date.append(data)\n",
    "print(\"GPA AND PERCENTAGE\")\n",
    "print(gpa_perc)\n",
    "print(\"DATE\")\n",
    "print(date)"
   ]
  },
  {
   "cell_type": "code",
   "execution_count": 269,
   "id": "91d7311d",
   "metadata": {},
   "outputs": [
    {
     "name": "stdout",
     "output_type": "stream",
     "text": [
      "GPA AND PERCENTAGE\n",
      "['9.08', '68.75%', '87.50%', '88.0%']\n",
      "DATE\n",
      "['2579', '29/05/2019', '30/06/2019', '2018', '2020', '2015', '2018', '2015', '2013', ' Dec 2018', ' Jan 2019\\n', ' May 2020 ']\n"
     ]
    }
   ],
   "source": [
    "import re\n",
    "from openpyxl.workbook import Workbook \n",
    "\n",
    "file = r'C:\\Users\\HP\\Resume Text Files\\0_CV_2020-07-04-064725 - Shivangi Pandey_text.txt'\n",
    "\n",
    "gpa_perc=[]\n",
    "date = []\n",
    "with open(file, errors='ignore') as f:\n",
    "    for line in f:\n",
    "        gpa_percentage = re.compile(r'\\d\\d?\\.\\d\\d?%?|\\d+%', re.VERBOSE)\n",
    "        dates = re.compile(r'\\d+/\\d+/\\d+|\\d+\\.\\d+\\.\\d+|\\d+-\\d+-\\d|(?:18[0-9]\\d{1}|2[0-9]\\d{2})|(?:\\d{4})?(?:\\s)?(?:\\d\\d?)?(?:\\s)?(?:Jan(?:uary)?|JAN(?:UARY)?|Feb(?:ruary)?|FEB(?:RUARY)?|March?|MARCH?|Apr(?:il)?|APR(?:IL)?|May|MAY|June|JUNE|July|JULY|Aug(?:ust)?|AUG(?:UST)?|Sep(?:tember)?|SEP(?:TEMBER)?|Oct(?:ober)?|OCT(?:OBER)?|Nov(?:ember)?|NOV(?:EMBER)?|Dec(?:ember)?|DEC(?:EMBER)?)(?:\\s)?(?:\\d\\d+?\\d{4})?(?:\\s)?(?:\\d+)?(?:\\s)?(?:\\d{4})?', re.VERBOSE)\n",
    "        for groups in gpa_percentage.findall(line):\n",
    "            gpa_perc.append(groups)\n",
    "        for data in dates.findall(line):\n",
    "            date.append(data)\n",
    "print(\"GPA AND PERCENTAGE\")\n",
    "print(gpa_perc)\n",
    "print(\"DATE\")\n",
    "print(date)"
   ]
  },
  {
   "cell_type": "code",
   "execution_count": 268,
   "id": "8ebcfa98",
   "metadata": {},
   "outputs": [
    {
     "name": "stdout",
     "output_type": "stream",
     "text": [
      "GPA AND PERCENTAGE\n",
      "[]\n",
      "DATE\n",
      "['2015', '2016', '2016', '2017', '2652', '10-08-1']\n"
     ]
    }
   ],
   "source": [
    "import re\n",
    "from openpyxl.workbook import Workbook \n",
    "\n",
    "file = r'C:\\Users\\HP\\Resume Text Files\\1BM14TE002_ABISHEK - Abishek Yogesh_text.txt'\n",
    "\n",
    "gpa_perc=[]\n",
    "date = []\n",
    "with open(file) as f:\n",
    "    for line in f:\n",
    "        gpa_percentage = re.compile(r'\\d\\d?\\.\\d\\d?%?|\\d+%', re.VERBOSE)\n",
    "        dates = re.compile(r'\\d+/\\d+/\\d+|\\d+\\.\\d+\\.\\d+|\\d+-\\d+-\\d|(?:18[0-9]\\d{1}|2[0-9]\\d{2})|(?:\\d{4})?(?:\\s)?(?:\\d\\d?)?(?:\\s)?(?:Jan(?:uary)?|JAN(?:UARY)?|Feb(?:ruary)?|FEB(?:RUARY)?|March?|MARCH?|Apr(?:il)?|APR(?:IL)?|May|MAY|June|JUNE|July|JULY|Aug(?:ust)?|AUG(?:UST)?|Sep(?:tember)?|SEP(?:TEMBER)?|Oct(?:ober)?|OCT(?:OBER)?|Nov(?:ember)?|NOV(?:EMBER)?|Dec(?:ember)?|DEC(?:EMBER)?)(?:\\s)?(?:\\d\\d+?\\d{4})?(?:\\s)?(?:\\d+)?(?:\\s)?(?:\\d{4})?', re.VERBOSE)\n",
    "        for groups in gpa_percentage.findall(line):\n",
    "            gpa_perc.append(groups)\n",
    "        for data in dates.findall(line):\n",
    "            date.append(data)\n",
    "print(\"GPA AND PERCENTAGE\")\n",
    "print(gpa_perc)\n",
    "print(\"DATE\")\n",
    "print(date)"
   ]
  },
  {
   "cell_type": "code",
   "execution_count": 275,
   "id": "d9bab16f",
   "metadata": {},
   "outputs": [
    {
     "name": "stdout",
     "output_type": "stream",
     "text": [
      "GPA AND PERCENTAGE\n",
      "['8.2', '79.5%', '92.96%', '05.06']\n",
      "DATE\n",
      "['2016', '2014', ' January 2020 ', '19-06-2', '18-07-2', '2017', '2017', '05.06.1998']\n"
     ]
    }
   ],
   "source": [
    "import re\n",
    "from openpyxl.workbook import Workbook \n",
    "\n",
    "file = r'C:\\Users\\HP\\Resume Text Files\\1BM16CH038_P Soumya - Soumya Palayam_text.txt'\n",
    "\n",
    "gpa_perc=[]\n",
    "date = []\n",
    "with open(file) as f:\n",
    "    for line in f:\n",
    "        gpa_percentage = re.compile(r'\\d\\d?\\.\\d\\d?%?|\\d+%', re.VERBOSE)\n",
    "        dates = re.compile(r'\\d+/\\d+/\\d+|\\d+\\.\\d+\\.\\d+|\\d+-\\d+-\\d|(?:18[0-9]\\d{1}|2[0-9]\\d{2})|(?:\\d{4})?(?:\\s)?(?:\\d\\d?)?(?:\\s)?(?:Jan(?:uary)?|JAN(?:UARY)?|Feb(?:ruary)?|FEB(?:RUARY)?|March?|MARCH?|Apr(?:il)?|APR(?:IL)?|May|MAY|June|JUNE|July|JULY|Aug(?:ust)?|AUG(?:UST)?|Sep(?:tember)?|SEP(?:TEMBER)?|Oct(?:ober)?|OCT(?:OBER)?|Nov(?:ember)?|NOV(?:EMBER)?|December?|DECEMBER?)(?:\\s)?(?:\\d\\d+?\\d{4})?(?:\\s)?(?:\\d+)?(?:\\s)?(?:\\d{4})?', re.VERBOSE)\n",
    "        for groups in gpa_percentage.findall(line):\n",
    "            gpa_perc.append(groups)\n",
    "        for data in dates.findall(line):\n",
    "            date.append(data)\n",
    "print(\"GPA AND PERCENTAGE\")\n",
    "print(gpa_perc)\n",
    "print(\"DATE\")\n",
    "print(date)"
   ]
  },
  {
   "cell_type": "code",
   "execution_count": 266,
   "id": "cc67853e",
   "metadata": {},
   "outputs": [
    {
     "name": "stdout",
     "output_type": "stream",
     "text": [
      "GPA AND PERCENTAGE\n",
      "['8.1', '89%', '81%']\n",
      "DATE\n",
      "['1881', '2020', '2016', '2014', '  JULY 2019 ', '  JULY 2018 ', '2018', '2018', '2017', '2018']\n"
     ]
    }
   ],
   "source": [
    "\n",
    "import re\n",
    "from openpyxl.workbook import Workbook \n",
    "\n",
    "file = r'C:\\Users\\HP\\Resume Text Files\\1BM16IM034_Nishanth Nagaraj - Nishanth Nagaraj_text.txt'\n",
    "\n",
    "gpa_perc=[]\n",
    "date = []\n",
    "with open(file) as f:\n",
    "    for line in f:\n",
    "        gpa_percentage = re.compile(r'\\d\\d?\\.\\d\\d?%?|\\d+%', re.VERBOSE)\n",
    "        dates = re.compile(r'\\d+/\\d+/\\d+|\\d+\\.\\d+\\.\\d+|\\d+-\\d+-\\d|(?:18[0-9]\\d{1}|2[0-9]\\d{2})|(?:\\d{4})?(?:\\s)?(?:\\d\\d?)?(?:\\s)?(?:Jan(?:uary)?|JAN(?:UARY)?|Feb(?:ruary)?|FEB(?:RUARY)?|March?|MARCH?|Apr(?:il)?|APR(?:IL)?|May|MAY|June|JUNE|July|JULY|Aug(?:ust)?|AUG(?:UST)?|Sep(?:tember)?|SEP(?:TEMBER)?|Oct(?:ober)?|OCT(?:OBER)?|Nov(?:ember)?|NOV(?:EMBER)?|Dec(?:ember)?|DEC(?:EMBER)?)(?:\\s)?(?:\\d\\d+?\\d{4})?(?:\\s)?(?:\\d+)?(?:\\s)?(?:\\d{4})?', re.VERBOSE)\n",
    "        for groups in gpa_percentage.findall(line):\n",
    "            gpa_perc.append(groups)\n",
    "        for data in dates.findall(line):\n",
    "            date.append(data)\n",
    "print(\"GPA AND PERCENTAGE\")\n",
    "print(gpa_perc)\n",
    "print(\"DATE\")\n",
    "print(date)"
   ]
  },
  {
   "cell_type": "code",
   "execution_count": 265,
   "id": "e94fd76b",
   "metadata": {},
   "outputs": [
    {
     "name": "stdout",
     "output_type": "stream",
     "text": [
      "GPA AND PERCENTAGE\n",
      "['8.2', '93.83', '87.20']\n",
      "DATE\n",
      "['2020', '2016', '2014', ' 23 February 1999 ', '2018', '2019']\n"
     ]
    }
   ],
   "source": [
    "import re\n",
    "from openpyxl.workbook import Workbook \n",
    "\n",
    "file = r'C:\\Users\\HP\\Resume Text Files\\1BM16ME095_nandan - Nandan V.Holla_text.txt'\n",
    "\n",
    "gpa_perc=[]\n",
    "date = []\n",
    "with open(file, errors='ignore') as f:\n",
    "    for line in f:\n",
    "        gpa_percentage = re.compile(r'\\d\\d?\\.\\d\\d?%?|\\d+%', re.VERBOSE)\n",
    "        dates = re.compile(r'\\d+/\\d+/\\d+|\\d+\\.\\d+\\.\\d+|\\d+-\\d+-\\d|(?:18[0-9]\\d{1}|2[0-9]\\d{2})|(?:\\d{4})?(?:\\s)?(?:\\d\\d?)?(?:\\s)?(?:Jan(?:uary)?|JAN(?:UARY)?|Feb(?:ruary)?|FEB(?:RUARY)?|March?|MARCH?|Apr(?:il)?|APR(?:IL)?|May|MAY|June|JUNE|July|JULY|Aug(?:ust)?|AUG(?:UST)?|Sep(?:tember)?|SEP(?:TEMBER)?|Oct(?:ober)?|OCT(?:OBER)?|Nov(?:ember)?|NOV(?:EMBER)?|Dec(?:ember)?|DEC(?:EMBER)?)(?:\\s)?(?:\\d\\d+?\\d{4})?(?:\\s)?(?:\\d+)?(?:\\s)?(?:\\d{4})?', re.VERBOSE)\n",
    "        for groups in gpa_percentage.findall(line):\n",
    "            gpa_perc.append(groups)\n",
    "        for data in dates.findall(line):\n",
    "            date.append(data)\n",
    "print(\"GPA AND PERCENTAGE\")\n",
    "print(gpa_perc)\n",
    "print(\"DATE\")\n",
    "print(date)"
   ]
  },
  {
   "cell_type": "code",
   "execution_count": 264,
   "id": "9f756042",
   "metadata": {},
   "outputs": [
    {
     "name": "stdout",
     "output_type": "stream",
     "text": [
      "GPA AND PERCENTAGE\n",
      "['8.1', '7.8', '80.83%', '84.16%']\n",
      "DATE\n",
      "['2016', '2013', '2015', '2012', '2013', '2468']\n"
     ]
    }
   ],
   "source": [
    "import re\n",
    "from openpyxl.workbook import Workbook \n",
    "\n",
    "file = r'C:\\Users\\HP\\Resume Text Files\\1BM16TE041_SANTHOSH K R  - Santhosh K R_text.txt'\n",
    "\n",
    "gpa_perc=[]\n",
    "date = []\n",
    "with open(file) as f:\n",
    "    for line in f:\n",
    "        gpa_percentage = re.compile(r'\\d\\d?\\.\\d\\d?%?|\\d+%', re.VERBOSE)\n",
    "        dates = re.compile(r'\\d+/\\d+/\\d+|\\d+\\.\\d+\\.\\d+|\\d+-\\d+-\\d|(?:18[0-9]\\d{1}|2[0-9]\\d{2})|(?:\\d{4})?(?:\\s)?(?:\\d\\d?)?(?:\\s)?(?:Jan(?:uary)?|JAN(?:UARY)?|Feb(?:ruary)?|FEB(?:RUARY)?|March?|MARCH?|Apr(?:il)?|APR(?:IL)?|May|MAY|June|JUNE|July|JULY|Aug(?:ust)?|AUG(?:UST)?|Sep(?:tember)?|SEP(?:TEMBER)?|Oct(?:ober)?|OCT(?:OBER)?|Nov(?:ember)?|NOV(?:EMBER)?|Dec(?:ember)?|DEC(?:EMBER)?)(?:\\s)?(?:\\d\\d+?\\d{4})?(?:\\s)?(?:\\d+)?(?:\\s)?(?:\\d{4})?', re.VERBOSE)\n",
    "        for groups in gpa_percentage.findall(line):\n",
    "            gpa_perc.append(groups)\n",
    "        for data in dates.findall(line):\n",
    "            date.append(data)\n",
    "print(\"GPA AND PERCENTAGE\")\n",
    "print(gpa_perc)\n",
    "print(\"DATE\")\n",
    "print(date)"
   ]
  },
  {
   "cell_type": "code",
   "execution_count": 282,
   "id": "67492572",
   "metadata": {},
   "outputs": [
    {
     "name": "stdout",
     "output_type": "stream",
     "text": [
      "GPA AND PERCENTAGE\n",
      "['7.1', '89.2%', '9.5']\n",
      "DATE\n",
      "['2018', '2019', '2016', '2014', ' OCT', '01/06/1999']\n"
     ]
    }
   ],
   "source": [
    "import re\n",
    "from openpyxl.workbook import Workbook \n",
    "\n",
    "file = r'C:\\Users\\HP\\Resume Text Files\\1By16ec053 (p) - Narasimha Akhil_text.txt'\n",
    "\n",
    "gpa_perc=[]\n",
    "date = []\n",
    "with open(file) as f:\n",
    "    for line in f:\n",
    "        gpa_percentage = re.compile(r'\\d\\d?\\.\\d\\d?%?|\\d+%', re.VERBOSE)\n",
    "        dates = re.compile(r'\\d+/\\d+/\\d+|\\d+\\.\\d+\\.\\d+|\\d+-\\d+-\\d|(?:18[0-9]\\d{1}|2[0-9]\\d{2})|(?:\\d{4})?(?:\\s)?(?:\\d\\d?)?(?:\\s)?(?:Jan(?:uary)?|JAN(?:UARY)?|Feb(?:ruary)?|FEB(?:RUARY)?|March?|MARCH?|Apr(?:il)?|APR(?:IL)?|May|MAY|June|JUNE|July|JULY|Aug(?:ust)?|AUG(?:UST)?|Sep(?:tember)?|SEP(?:TEMBER)?|Oct(?:ober)?|OCT(?:OBER)?|Nov(?:ember)?|NOV(?:EMBER)?|December?|DECEMBER?)(?:\\s)?(?:\\d\\d+?\\d{4})?(?:\\s)?(?:\\d+)?(?:\\s)?(?:\\d{4})?', re.VERBOSE)\n",
    "        for groups in gpa_percentage.findall(line):\n",
    "            gpa_perc.append(groups)\n",
    "        for data in dates.findall(line):\n",
    "            date.append(data)\n",
    "print(\"GPA AND PERCENTAGE\")                  #decent\n",
    "print(gpa_perc)\n",
    "print(\"DATE\")\n",
    "print(date)"
   ]
  },
  {
   "cell_type": "code",
   "execution_count": 284,
   "id": "33a96bb1",
   "metadata": {},
   "outputs": [
    {
     "name": "stdout",
     "output_type": "stream",
     "text": [
      "GPA AND PERCENTAGE\n",
      "['7.5', '88.0', '87.2']\n",
      "DATE\n",
      "['2020', '2016', '2014', '21/08/1999']\n"
     ]
    }
   ],
   "source": [
    "import re\n",
    "from openpyxl.workbook import Workbook \n",
    "\n",
    "file = r'C:\\Users\\HP\\Resume Text Files\\1RN16EC090- Prakruth H S - Prakruth H s_text.txt'\n",
    "\n",
    "gpa_perc=[]\n",
    "date = []\n",
    "with open(file, errors='ignore') as f:\n",
    "    for line in f:\n",
    "        gpa_percentage = re.compile(r'\\d\\d?\\.\\d\\d?%?|\\d+%', re.VERBOSE)\n",
    "        dates = re.compile(r'\\d+/\\d+/\\d+|\\d+\\.\\d+\\.\\d+|\\d+-\\d+-\\d|(?:18[0-9]\\d{1}|2[0-9]\\d{2})|(?:\\d{4})?(?:\\s)?(?:\\d\\d?)?(?:\\s)?(?:Jan(?:uary)?|JAN(?:UARY)?|Feb(?:ruary)?|FEB(?:RUARY)?|March?|MARCH?|Apr(?:il)?|APR(?:IL)?|May|MAY|June|JUNE|July|JULY|Aug(?:ust)?|AUG(?:UST)?|Sep(?:tember)?|SEP(?:TEMBER)?|Oct(?:ober)?|OCT(?:OBER)?|Nov(?:ember)?|NOV(?:EMBER)?|Dec(?:ember)?|DECEMBER?)(?:\\s)?(?:\\d\\d+?\\d{4})?(?:\\s)?(?:\\d+)?(?:\\s)?(?:\\d{4})?', re.VERBOSE)\n",
    "        for groups in gpa_percentage.findall(line):\n",
    "            gpa_perc.append(groups)\n",
    "        for data in dates.findall(line):\n",
    "            date.append(data)                             #2102\n",
    "print(\"GPA AND PERCENTAGE\")\n",
    "print(gpa_perc)\n",
    "print(\"DATE\")\n",
    "print(date)"
   ]
  },
  {
   "cell_type": "code",
   "execution_count": 283,
   "id": "4c787792",
   "metadata": {},
   "outputs": [
    {
     "name": "stdout",
     "output_type": "stream",
     "text": [
      "GPA AND PERCENTAGE\n",
      "['84%', '67.52%', '74.45%', '79.36%']\n",
      "DATE\n",
      "['2136', '2020', '2018', '2014', '2012', ' Dec2018', ' Jan ', '2019', ' Dec 1996 ']\n"
     ]
    }
   ],
   "source": [
    "import re\n",
    "from openpyxl.workbook import Workbook \n",
    "\n",
    "file = r'C:\\Users\\HP\\Resume Text Files\\2.new resume update - MADHU N_text.txt'\n",
    "\n",
    "gpa_perc=[]\n",
    "date = []\n",
    "with open(file) as f:\n",
    "    for line in f:\n",
    "        gpa_percentage = re.compile(r'\\d\\d?\\.\\d\\d?%?|\\d+%', re.VERBOSE)\n",
    "        dates = re.compile(r'\\d+/\\d+/\\d+|\\d+\\.\\d+\\.\\d+|\\d+-\\d+-\\d|(?:18[0-9]\\d{1}|2[0-9]\\d{2})|(?:\\d{4})?(?:\\s)?(?:\\d\\d?)?(?:\\s)?(?:Jan(?:uary)?|JAN(?:UARY)?|Feb(?:ruary)?|FEB(?:RUARY)?|March?|MARCH?|Apr(?:il)?|APR(?:IL)?|May|MAY|June|JUNE|July|JULY|Aug(?:ust)?|AUG(?:UST)?|Sep(?:tember)?|SEP(?:TEMBER)?|Oct(?:ober)?|OCT(?:OBER)?|Nov(?:ember)?|NOV(?:EMBER)?|Dec(?:ember)?|DECEMBER?)(?:\\s)?(?:\\d\\d+?\\d{4})?(?:\\s)?(?:\\d+)?(?:\\s)?(?:\\d{4})?', re.VERBOSE)\n",
    "        for groups in gpa_percentage.findall(line):\n",
    "            gpa_perc.append(groups)\n",
    "        for data in dates.findall(line):\n",
    "            date.append(data)\n",
    "print(\"GPA AND PERCENTAGE\")                         #2012 U NEED?  #issue fixed 3rd dec 2019\n",
    "print(gpa_perc)\n",
    "print(\"DATE\")\n",
    "print(date)"
   ]
  },
  {
   "cell_type": "code",
   "execution_count": 260,
   "id": "8e5dbb0b",
   "metadata": {},
   "outputs": [
    {
     "name": "stdout",
     "output_type": "stream",
     "text": [
      "GPA AND PERCENTAGE\n",
      "['6.4', '6.24', '7.5', '70.56%', '87.20%']\n",
      "DATE\n",
      "['AUGUST 2016\\n']\n"
     ]
    }
   ],
   "source": [
    "import re\n",
    "from openpyxl.workbook import Workbook \n",
    "\n",
    "file = r'C:\\Users\\HP\\Resume Text Files\\284010 - Jatin Dhomane_text.txt'\n",
    "\n",
    "gpa_perc=[]\n",
    "date = []\n",
    "with open(file, errors='ignore') as f:\n",
    "    for line in f:\n",
    "        gpa_percentage = re.compile(r'\\d\\d?\\.\\d\\d?%?|\\d+%', re.VERBOSE)\n",
    "        dates = re.compile(r'\\d+/\\d+/\\d+|\\d+\\.\\d+\\.\\d+|\\d+-\\d+-\\d|(?:18[0-9]\\d{1}|2[0-9]\\d{2})|(?:\\d{4})?(?:\\s)?(?:\\d\\d?)?(?:\\s)?(?:Jan(?:uary)?|JAN(?:UARY)?|Feb(?:ruary)?|FEB(?:RUARY)?|March?|MARCH?|Apr(?:il)?|APR(?:IL)?|May|MAY|June|JUNE|July|JULY|Aug(?:ust)?|AUG(?:UST)?|Sep(?:tember)?|SEP(?:TEMBER)?|Oct(?:ober)?|OCT(?:OBER)?|Nov(?:ember)?|NOV(?:EMBER)?|Dec(?:ember)?|DEC(?:EMBER)?)(?:\\s)?(?:\\d\\d+?\\d{4})?(?:\\s)?(?:\\d+)?(?:\\s)?(?:\\d{4})?', re.VERBOSE)\n",
    "        for groups in gpa_percentage.findall(line):\n",
    "            gpa_perc.append(groups)\n",
    "        for data in dates.findall(line):\n",
    "            date.append(data)\n",
    "print(\"GPA AND PERCENTAGE\")                         #AUGUST 2016 \n",
    "print(gpa_perc)\n",
    "print(\"DATE\")\n",
    "print(date)"
   ]
  },
  {
   "cell_type": "code",
   "execution_count": 259,
   "id": "cdce461d",
   "metadata": {},
   "outputs": [
    {
     "name": "stdout",
     "output_type": "stream",
     "text": [
      "GPA AND PERCENTAGE\n",
      "['8.2', '8.5', '78%', '60%', '84%']\n",
      "DATE\n",
      "['2200', '01/03/1995', '2025', '2017', '2014', '2012', '2019', '2016', '2748', '  October 2019 ']\n"
     ]
    }
   ],
   "source": [
    "import re\n",
    "from openpyxl.workbook import Workbook \n",
    "\n",
    "file = r'C:\\Users\\HP\\Resume Text Files\\1590138657249_1589263034983_Ankita Narayan CV.-min (1) - Ankita Narayan_text.txt'\n",
    "\n",
    "gpa_perc=[]\n",
    "date = []\n",
    "with open(file) as f:\n",
    "    for line in f:\n",
    "        gpa_percentage = re.compile(r'\\d\\d?\\.\\d\\d?%?|\\d+%', re.VERBOSE)\n",
    "        dates = re.compile(r'\\d+/\\d+/\\d+|\\d+\\.\\d+\\.\\d+|\\d+-\\d+-\\d|(?:18[0-9]\\d{1}|2[0-9]\\d{2})|(?:\\d{4})?(?:\\s)?(?:\\d\\d?)?(?:\\s)?(?:Jan(?:uary)?|JAN(?:UARY)?|Feb(?:ruary)?|FEB(?:RUARY)?|March?|MARCH?|Apr(?:il)?|APR(?:IL)?|May|MAY|June|JUNE|July|JULY|Aug(?:ust)?|AUG(?:UST)?|Sep(?:tember)?|SEP(?:TEMBER)?|Oct(?:ober)?|OCT(?:OBER)?|Nov(?:ember)?|NOV(?:EMBER)?|Dec(?:ember)?|DEC(?:EMBER)?)(?:\\s)?(?:\\d\\d+?\\d{4})?(?:\\s)?(?:\\d+)?(?:\\s)?(?:\\d{4})?', re.VERBOSE)\n",
    "        for groups in gpa_percentage.findall(line):\n",
    "            gpa_perc.append(groups)\n",
    "        for data in dates.findall(line):\n",
    "            date.append(data)\n",
    "print(\"GPA AND PERCENTAGE\")\n",
    "print(gpa_perc)\n",
    "print(\"DATE\")\n",
    "print(date)"
   ]
  },
  {
   "cell_type": "code",
   "execution_count": 255,
   "id": "3ae88956",
   "metadata": {},
   "outputs": [
    {
     "name": "stdout",
     "output_type": "stream",
     "text": [
      "GPA AND PERCENTAGE\n",
      "['7.3', '87.20']\n",
      "DATE\n",
      "['2846', '2021', ' Jun', '2017', '2015', '18-01-2', '23-02-2', '20-05-2', '  DEC', '2019', '2000', '2010', '15/01/2000']\n"
     ]
    }
   ],
   "source": [
    "import re\n",
    "from openpyxl.workbook import Workbook \n",
    "\n",
    "file = r'C:\\Users\\HP\\Resume Text Files\\AASHISH RUEBEN GERARD- - AASHISH REUBEN_text.txt'\n",
    "\n",
    "gpa_perc=[]\n",
    "date = []\n",
    "with open(file) as f:\n",
    "    for line in f:\n",
    "        gpa_percentage = re.compile(r'\\d\\d?\\.\\d\\d?%?|\\d+%', re.VERBOSE)\n",
    "        dates = re.compile(r'\\d+/\\d+/\\d+|\\d+\\.\\d+\\.\\d+|\\d+-\\d+-\\d|(?:18[0-9]\\d{1}|2[0-9]\\d{2})|(?:\\d{4})?(?:\\s)?(?:\\d\\d?)?(?:\\s)?(?:Jan(?:uary)?|JAN(?:UARY)?|Feb(?:ruary)?|FEB(?:RUARY)?|March?|MARCH?|Apr(?:il)?|APR(?:IL)?|May|MAY|June?|JUNE?|July?|JULY?|Aug(?:ust)?|AUG(?:UST)?|Sep(?:tember)?|SEP(?:TEMBER)?|Oct(?:ober)?|OCT(?:OBER)?|Nov(?:ember)?|NOV(?:EMBER)?|Dec(?:ember)?|DEC(?:EMBER)?)(?:\\s)?(?:\\d\\d+?\\d{4})?(?:\\s)?(?:\\d+)?(?:\\s)?(?:\\d{4})?', re.VERBOSE)\n",
    "        for groups in gpa_percentage.findall(line):\n",
    "            gpa_perc.append(groups)\n",
    "        for data in dates.findall(line):\n",
    "            date.append(data)\n",
    "print(\"GPA AND PERCENTAGE\")\n",
    "print(gpa_perc)                            #mar \n",
    "print(\"DATE\")\n",
    "print(date)"
   ]
  },
  {
   "cell_type": "code",
   "execution_count": 250,
   "id": "3d1730bf",
   "metadata": {},
   "outputs": [
    {
     "name": "stdout",
     "output_type": "stream",
     "text": [
      "21/02\n",
      "90/100\n",
      "9/10\n",
      "3.4/4\n"
     ]
    }
   ],
   "source": [
    "import re\n",
    "from openpyxl.workbook import Workbook\n",
    "\n",
    "str = 'hello, myself suvetha. i dob is 21/02/2001.i got 95% in 10th. i got 90.0% in 12th My cgpa in engineering is 8.5.My ME cgpa is 90/100 and 9/10 and also 3.4/4.'\n",
    "\n",
    "cgpa = re.compile(r'\\d\\.?\\d?/\\d+', re.VERBOSE)\n",
    "for groups in cgpa.findall(str):\n",
    "    print(groups)\n",
    "    \n"
   ]
  },
  {
   "cell_type": "code",
   "execution_count": 17,
   "id": "5a05dae0",
   "metadata": {},
   "outputs": [
    {
     "name": "stdout",
     "output_type": "stream",
     "text": [
      "['95%', '90.00%', '8.5', '85 ', '90/100', '3.4', '9/10']\n"
     ]
    }
   ],
   "source": [
    "import re\n",
    "from openpyxl.workbook import Workbook\n",
    "\n",
    "str = 'hello, myself suvetha. my dob is 21/02/2001 and 30/02/2020.i got 95% in my 10th and i got 90.00% in 12th My cgpa in engineering is 8.5 whi h is 85 .My ME cgpa is 90/100 and 3.4/4 and also 9/10.'\n",
    "new_str = re.sub(r\"\\d+/\\d+/\\d\\d\\d\\d\", \" \", str)\n",
    "#print(new_str)\n",
    "cgpa = re.findall(r'\\d\\d?\\.\\d\\d?%?|\\d+%|\\d\\.?\\d?/\\d+|\\d\\d[^a-zA-Z]', new_str)\n",
    "print(cgpa)\n"
   ]
  },
  {
   "cell_type": "code",
   "execution_count": 227,
   "id": "20f78be0",
   "metadata": {},
   "outputs": [
    {
     "name": "stdout",
     "output_type": "stream",
     "text": [
      "['2021', '21/02/2001', '21/2/2001', '2/2/2001', '2/2/02', '1.12.2001', '2-2-2', '2009/02/17', '2928', '2472', '2348', '2009']\n"
     ]
    }
   ],
   "source": [
    "str= '17, 20, 2021, 21/02/2001, 21/2/2001, 2/2/2001, 2/2/02, 1.12.2001, 2-2-2001, 2009/02/17,17, 37598347598347, 2928, 2472, 723487, February 17 2009)'\n",
    "date = re.findall(r'\\d+/\\d+/\\d+|\\d+\\.\\d+\\.\\d+|\\d+-\\d+-\\d|(?:18[0-9]\\d{1}|2[0-9]\\d{2})', str)\n",
    "print(date)"
   ]
  },
  {
   "cell_type": "code",
   "execution_count": 221,
   "id": "86aa0447",
   "metadata": {},
   "outputs": [
    {
     "name": "stdout",
     "output_type": "stream",
     "text": [
      "['3rd Dec 2019', ' February 17 2009', ' Feb 17 2004', ' February172009', ' Feb 17', ' Feb172009', ' 17Feb2009', '2009Feb17', ' 17 Feb 2019', '2009 Feb 17']\n"
     ]
    }
   ],
   "source": [
    "import re\n",
    "str = \"2013, 19, 3rd Dec 2019, February 17 2009, Feb 17 2004, February172009,AUGUST 2016, Feb 17, 17, 2348, 4556, Feb172009, 17Feb2009, 2009Feb17, 17 Feb 2019, 2009 Feb 17\"\n",
    "date = re.findall(r\"(?:\\d\\d?(?:st|nd|rd|th)?)?(?:\\d{4})?(?:\\s)?(?:\\d\\d?)?(?:\\s)?(?:Jan(?:uary)|Feb(?:ruary)?|Mar(?:ch)?|Apr(?:il)?|May|Jun(?:e)?|Jul(?:y)?|Aug(?:ust)?|Sep(?:tember)?|Oct(?:ober)?|Nov(?:ember)?|Dec(?:ember)?)(?:\\s)?(?:\\d\\d+?\\d{4})?(?:\\s)?(?:\\d+)?(?:\\s)?(?:\\d{4})?\", str)\n",
    "print(date)"
   ]
  },
  {
   "cell_type": "code",
   "execution_count": 75,
   "id": "e03be257",
   "metadata": {},
   "outputs": [
    {
     "name": "stdout",
     "output_type": "stream",
     "text": [
      "['3rd Dec 2018', ' JUNE 2019 ', ' AUGUST 2020 ', 'May 2022', '34th July 2014', '21/02/2001', '21/2/2001', '2/2/2001', '2/2/02', '1.12.2001', '2-2-2', '2009/02/17', '2928', '2472', '2348', ' February 17 ', ' Feb 17 2004', ' February172009', 'AUGUST 2019', ' Feb 17', ' Feb172009', ' 17Feb2009', '2009', 'Feb17', ' 17 Feb 2019', '2009', ' Feb 17']\n"
     ]
    }
   ],
   "source": [
    "str= '3rd Dec 2018, JUNE 2019 TO AUGUST 2020 May 2022, 34th July 2014,21/02/2001, 21/2/2001, 2/2/2001, 2/2/02, 1.12.2001, 2-2-2001, 2009/02/17,17, 37598347598347, 2928, 2472, 723487, February 17 20, Feb 17 2004, February172009,AUGUST 2019, Feb 17, 17, 234, 4556, Feb172009, 17Feb2009, 2009Feb17, 17 Feb 2019, 2009 Feb 17)'\n",
    "date = re.findall(r'\\d+/\\d+/\\d+|\\d+\\.\\d+\\.\\d+|\\d+-\\d+-\\d|(?:18[0-9]\\d{1}|2[0-9]\\d{2})|(?:\\d{4})?(?:\\s)?(?:\\d\\d?)?(?:\\s)?(?:Jan(?:uary)?|JAN(?:UARY)?|Feb(?:ruary)?|FEB(?:RUARY)?|March?|MARCH?|Apr(?:il)?|APR(?:IL)?|May|MAY|June|JUNE|July|JULY|Aug(?:ust)?|AUG(?:UST)?|Sep(?:tember)?|SEP(?:TEMBER)?|Oct(?:ober)?|OCT(?:OBER)?|Nov(?:ember)?|NOV(?:EMBER)?|December?|DECEMBER?|PRESENT?)(?:\\s)?(?:\\d\\d+?\\d{4})?(?:\\s)?(?:\\d+)?(?:\\s)?(?:\\d{4})?|(?:\\d\\d?(?:st|nd|rd|th)(?:\\s)?\\w+(?:\\s)?\\d{4})', str)\n",
    "print(date)"
   ]
  },
  {
   "cell_type": "code",
   "execution_count": 45,
   "id": "b1f6a83a",
   "metadata": {},
   "outputs": [
    {
     "name": "stdout",
     "output_type": "stream",
     "text": [
      "['2019', '2018', '1890', '2999']\n"
     ]
    }
   ],
   "source": [
    "str = '2019, 2018, 1890, 3762, 8374,2999, 20, 02, 17, 19'\n",
    "dates=re.findall(r\"(?:18[0-9]\\d{1}|2[0-9]\\d{2})\", str)\n",
    "print(dates)"
   ]
  },
  {
   "cell_type": "code",
   "execution_count": 77,
   "id": "1d647809",
   "metadata": {},
   "outputs": [
    {
     "name": "stdout",
     "output_type": "stream",
     "text": [
      "['JUNE 2019 TO AUGUST 2020', 'June 2019 TO August 2020', 'June2019TOAUGUST 2020', 'May 2019 TO AUGUST 2020', 'JUNE 2022 TO PRESENT ']\n"
     ]
    }
   ],
   "source": [
    "import re\n",
    "str = 'JUNE 2019 TO AUGUST 2020, June 2019 TO August 2020, June2019TOAUGUST 2020, May 2019 TO AUGUST 2020, JUNE 2022 TO PRESENT '\n",
    "dat = re.findall(r'(\\w+(?:\\s)?(?:\\d{4})(?:\\s)?(?:to|TO|To)(?:\\s)?\\w+(?:\\s)?(?:\\d{4})?)', str)\n",
    "print(dat)"
   ]
  },
  {
   "cell_type": "code",
   "execution_count": null,
   "id": "50494fdb",
   "metadata": {},
   "outputs": [],
   "source": []
  }
 ],
 "metadata": {
  "kernelspec": {
   "display_name": "Python 3 (ipykernel)",
   "language": "python",
   "name": "python3"
  },
  "language_info": {
   "codemirror_mode": {
    "name": "ipython",
    "version": 3
   },
   "file_extension": ".py",
   "mimetype": "text/x-python",
   "name": "python",
   "nbconvert_exporter": "python",
   "pygments_lexer": "ipython3",
   "version": "3.10.1"
  }
 },
 "nbformat": 4,
 "nbformat_minor": 5
}
