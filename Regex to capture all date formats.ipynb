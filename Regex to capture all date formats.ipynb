{
 "cells": [
  {
   "cell_type": "code",
   "execution_count": 1,
   "id": "5e5602d1",
   "metadata": {},
   "outputs": [
    {
     "data": {
      "text/plain": [
       "'ABHAY DIXIT                     \\n                                      Ph. No. :    +91-9923767905                         E-Mail :  abhaydixit237@gmail.com \\n         Electronics & Telecommunication Engineering \\n \\n \\n \\nInternship :  \\nCompany Name :    LARSEN & TOUBRO \\n \\nDesignation/Role Name :   Internship Trainee \\nâ€¢  Used to work on small projects in Embedded System using Keil \\n        ( 16th May 2016 - 7th June 2016 )  \\nsoftware. \\nâ€¢  Designed Circuits using PCB Express. \\nCompany Name :    JIO â€“Digital India \\n \\nDesignation/Role Name :   Internship Trainee \\nâ€¢  During this program ,  I Interacted with SMBs to understand how the \\n                     ( 13th June 2018- 11th July 2018 )  \\ndigital revolution has impacted their businesses. \\n \\nProjects Undertaken :  \\nName of the Project :    VOICE CONTROLLED CAR                    2019-2020 \\nCore technologies Used :  Arduino ,  Bluetooth \\nâ€¢  Voice controlled car is a Arduino based car whose motions can be \\n       controlled by the user by giving specific voice commands. \\nName of the Project :    Automatic Street Light Controller    2018 \\nCore technologies Used :    Electro-Mechanical \\nâ€¢  This project aims for saving electricity that is been wasted on street \\nlights even when they are not in use. It uses LDR sensors which turns \\non when a vehicle passes through. \\n \\nName of the Project :    SPARSH \\n \\nCore technologies Used :    PIC Microcontroller \\nâ€¢  This project helps paralyzed or physically disabled people to do basic \\nthings like turning on/off light or fan ,  controlling the speed of fan \\nwith the help of gestures. \\n           2016-2017 \\n \\nAcademic Qualifications :  \\nâ€¢  Bachelor of Engineering  ( B.E. )  \\n        ( From July 2017 )  \\nUniversity of Mumbai.  ( Till Sem 7 )  7.37 CGPI. \\nâ€¢  Diploma in Electronics & Telecommunication             2014-2017 \\nMaharashtra State Board. Passed with 87.35%. \\nâ€¢  Secondary School Certificate  ( S.S.C )  \\n        2013-2014 \\nMaharashtra State Board. Passed with 84.60%. \\nCo-Curricular Activities :  \\nâ€¢  Coursera \\ncertification \\nfor \\nPython for everybody. \\nâ€¢  NPTEL  certification  for  CMOS \\nVLSI. \\nâ€¢  Attended workshop on \\nEngineering Applications Using \\nMATLAB. \\nâ€¢  Attended CCNA Workshop. \\nâ€¢  Attended  Workshop  on  IOT  & \\nEmbedded System. \\nâ€¢  Participated in state level \\ntechnical paper presentation. \\nExtra-Curricular Activities :  \\nâ€¢  Participated in college Annual \\nFunction during Diploma. \\nâ€¢  Industrial Visit  ( 2019 ) . \\nTechnical Skills :   \\nLanguage :  \\nâ€¢  Python.  \\nâ€¢  Basics of C.  \\nTools :  \\nâ€¢  Proteus \\nâ€¢  VLSI \\n \\nPosition of Responsibility :   \\nâ€¢  ISTE Event Co-ordinator  \\nfor Academic Year 2016-17  \\nduring Diploma.             \\nHobbies & Interest :  \\nâ€¢  Cooking food. \\nâ€¢  Gymming. \\nâ€¢  Watching TV Series.'"
      ]
     },
     "execution_count": 1,
     "metadata": {},
     "output_type": "execute_result"
    }
   ],
   "source": [
    "import re\n",
    "with open(r'C:\\Users\\HP\\Resume Text Files\\abhay dixit_resume - Constructorsfeed_text.txt') as f:\n",
    "    contents = f.read()\n",
    "contents"
   ]
  },
  {
   "cell_type": "code",
   "execution_count": 2,
   "id": "e9ee0409",
   "metadata": {},
   "outputs": [
    {
     "data": {
      "text/plain": [
       "['May 2016',\n",
       " 'June 2016',\n",
       " 'June 2018',\n",
       " 'July 2018',\n",
       " 'July 2017',\n",
       " 'May 2016 - 7th',\n",
       " 'June 2018- 11th',\n",
       " 'Year 2016-17',\n",
       " '16th May 2016',\n",
       " '7th June 2016',\n",
       " '13th June 2018',\n",
       " '11th July 2018',\n",
       " '2376',\n",
       " '2016',\n",
       " '2016',\n",
       " '2018',\n",
       " '2018',\n",
       " '2019',\n",
       " '2020',\n",
       " '2018',\n",
       " '2016',\n",
       " '2017',\n",
       " '2017',\n",
       " '2014',\n",
       " '2017',\n",
       " '2013',\n",
       " '2014',\n",
       " '2019',\n",
       " '2016']"
      ]
     },
     "execution_count": 2,
     "metadata": {},
     "output_type": "execute_result"
    }
   ],
   "source": [
    "date_format = re.findall(r'\\d+/\\d+/\\d+|\\d+\\.\\d+\\.\\d+|\\d+-\\d+-\\d',contents)\n",
    "date_words = re.findall(r'(?:\\d{4})?(?:\\s)?(?:\\d\\d?)?(?:\\s)?(?:Jan(?:uary)?|JAN(?:UARY)?|Feb(?:ruary)?|FEB(?:RUARY)?|March?|MARCH?|Apr(?:il)?|APR(?:IL)?|May|MAY|June|JUNE|July|JULY|Aug(?:ust)?|AUG(?:UST)?|Sep(?:tember)?|SEP(?:TEMBER)?|Oct(?:ober)?|OCT(?:OBER)?|Nov(?:ember)?|NOV(?:EMBER)?|December?|DECEMBER?|PRESENT?)(?:\\s)?(?:\\d\\d+?\\d{4})?(?:\\s)?(?:\\d+)?(?:\\s)?(?:\\d{4})?', contents)\n",
    "date_with_to = re.findall(r'(\\w+(?:\\s)?(?:\\d{4})(?:\\s)?(?:to|TO|To|-)(?:\\s)?\\w+(?:\\s)?(?:\\d{4})?)', contents)\n",
    "date_certain_year = re.findall(r'(?:18[0-9]\\d{1}|2[0-9]\\d{2})', contents)\n",
    "date_with_symbol = re.findall(r'(?:\\d\\d?(?:st|nd|rd|th)(?:\\s)?\\w+(?:\\s)?\\d{4})',contents)\n",
    "date = date_format + date_words + date_with_to + date_with_symbol + date_certain_year\n",
    "date = [x.strip() for x in date]\n",
    "date"
   ]
  },
  {
   "cell_type": "code",
   "execution_count": null,
   "id": "89e7c85f",
   "metadata": {},
   "outputs": [],
   "source": []
  }
 ],
 "metadata": {
  "kernelspec": {
   "display_name": "Python 3 (ipykernel)",
   "language": "python",
   "name": "python3"
  },
  "language_info": {
   "codemirror_mode": {
    "name": "ipython",
    "version": 3
   },
   "file_extension": ".py",
   "mimetype": "text/x-python",
   "name": "python",
   "nbconvert_exporter": "python",
   "pygments_lexer": "ipython3",
   "version": "3.10.1"
  }
 },
 "nbformat": 4,
 "nbformat_minor": 5
}
